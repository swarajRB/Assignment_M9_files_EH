{
 "cells": [
  {
   "cell_type": "markdown",
   "metadata": {},
   "source": [
    "## Q.1 Discuss the scenarios where multithreading is preferable to multiprocessing and scenarios where multiprocessing is a better choice."
   ]
  },
  {
   "cell_type": "markdown",
   "metadata": {},
   "source": [
    "When deciding between multithreading and multiprocessing in Python (or any programming environment), the choice depends on the nature of the task, specifically whether it is I/O-bound or CPU-bound. \n",
    "\n",
    "\n",
    "**When Multithreading is Preferable:**\n",
    "\n",
    "Multithreading is better suited for tasks that involve I/O-bound operations, where the program spends a lot of time waiting for external resources such as reading/writing files, network operations, or user input/output. In these cases, threads can run concurrently and share memory space, resulting in efficient use of resources.\n",
    "\n",
    "Scenarios for Multithreading:\n",
    "\n",
    "1. I/O-Bound Tasks:\n",
    "\n",
    "     - Reading from or writing to files.\n",
    "     - Fetching data from the internet or APIs (network operations).\n",
    "     - Handling many simultaneous connections in a web server.\n",
    "     - Waiting for user input or processing events in GUIs (graphical user interfaces).\n",
    "\n",
    "2. Real-Time Applications:\n",
    "\n",
    "      - Programs that need to update their UI while performing background tasks (e.g., game development, live data displays).\n",
    "      - Handling concurrent users in lightweight applications (e.g., a chat server).\n",
    "\n",
    "3. Shared Memory Scenarios:\n",
    "\n",
    "      - Tasks that need to access or modify the same data simultaneously without copying it.\n",
    "      - Scenarios where the overhead of process creation and inter-process communication (IPC) is too high.\n",
    "\n",
    "\n",
    "**When Multiprocessing is Preferable:**\n",
    "\n",
    "Multiprocessing is more efficient for CPU-bound tasks, where the operations are computationally intensive and need to make use of multiple CPU cores. Each process runs independently, with its own memory space, which eliminates the Global Interpreter Lock (GIL) issue in Python.\n",
    "\n",
    "Scenarios for Multiprocessing:\n",
    "\n",
    "1. CPU-Bound Tasks:\n",
    "\n",
    "      - Performing heavy computations (e.g., mathematical simulations, image processing, machine learning algorithms).\n",
    "      - Large-scale data processing (e.g., transforming data across millions of rows).\n",
    "Tasks that involve cryptographic functions or data encryption/decryption.\n",
    "\n",
    "2. Parallel Computation:\n",
    "\n",
    "      - Any workload that can be split into independent units and can be processed in parallel.\n",
    "      - For example, training multiple machine learning models simultaneously or running simulations that don't depend on each other.\n",
    "\n",
    "3. Avoiding the GIL (Global Interpreter Lock):\n",
    "\n",
    "      - Python's GIL allows only one thread to execute Python bytecode at a time, making multithreading less efficient for CPU-bound operations. Multiprocessing bypasses this limitation by creating separate processes with their own memory space.\n"
   ]
  },
  {
   "cell_type": "markdown",
   "metadata": {},
   "source": [
    "## Q.2 Describe what a process pool is and how it helps in managing multiple processes efficiently.\n"
   ]
  },
  {
   "cell_type": "markdown",
   "metadata": {},
   "source": [
    "A process pool is a programming construct used to manage and control a collection of worker processes, allowing efficient execution of tasks in parallel. It is particularly useful when you have a set of tasks that need to be performed concurrently and can benefit from being spread across multiple CPU cores.\n",
    "\n",
    "\n",
    "Key Features of a Process Pool:\n",
    "\n",
    "**1. Predefined Set of Workers:** \n",
    "A process pool creates a fixed number of worker processes (e.g., 4 or 8) at the start. These workers are used to execute tasks in parallel.\n",
    "\n",
    "**2. Task Scheduling:**\n",
    "Tasks are submitted to the pool, and the pool distributes them to the available workers. Once a worker finishes a task, it can pick up a new one from the queue.\n",
    " \n",
    "**3. Task Queuing:**\n",
    "The pool automatically manages the scheduling of tasks. If there are more tasks than available processes, the tasks are queued, and the pool assigns them to processes as they become available.\n",
    "\n",
    "**4. Simplified API:**\n",
    "Process pools provide an interface for submitting tasks (`apply()`, `apply_async()`, `map()`,` map_async()`) and collecting results, allowing developers to parallelize workloads without manually managing processes.\n",
    "\n",
    "\n",
    "**How Process Pools Work:**\n",
    "1. Initialization: When you create a pool (e.g., Pool(processes=4)), a set number of processes are created. These workers are idle until tasks are submitted to the pool.\n",
    "\n",
    "2. Task Submission: You can submit multiple tasks to the pool, either all at once (using methods like pool.map()) or one by one (with pool.apply_async()).\n",
    "\n",
    "3. Task Execution: The pool distributes tasks across the available worker processes. Once a task is completed, the result is collected, and the worker becomes available for another task.\n",
    "\n",
    "4. Results Collection: After all tasks are distributed and completed, the pool returns the results to the main process."
   ]
  },
  {
   "cell_type": "code",
   "execution_count": 1,
   "metadata": {},
   "outputs": [
    {
     "name": "stdout",
     "output_type": "stream",
     "text": [
      "[1, 4, 9, 16, 25]\n"
     ]
    }
   ],
   "source": [
    "# Example of a Process Pool in Python using `multiprocessing`\n",
    "from multiprocess import Pool\n",
    "\n",
    "def square(n):\n",
    "    return n * n\n",
    "\n",
    "if __name__ == \"__main__\":\n",
    "    with Pool(processes=4) as pool:  # Create a pool of 4 worker processes\n",
    "        numbers = [1, 2, 3, 4, 5]\n",
    "        results = pool.map(square, numbers)  # Distribute the tasks among the workers\n",
    "        print(results)  # Output: [1, 4, 9, 16, 25]\n"
   ]
  },
  {
   "cell_type": "markdown",
   "metadata": {},
   "source": [
    "## Q.3 Explain what multiprocessing is and why it is used in Python programs.  "
   ]
  },
  {
   "cell_type": "markdown",
   "metadata": {},
   "source": [
    "**What is Multiprocessing?**\n",
    "\n",
    "Multiprocessing refers to the ability of a system to run multiple processes simultaneously.Each process has its own memory space and can run independently of others. This is distinct from multithreading, where threads share the same memory space and can lead to issues like race conditions and thread contention.\n",
    "\n",
    "\n",
    "\n",
    "**Key Concept of Multiprocessing**\n",
    "\n",
    "**Process:** A process is an instance of a running program.\n",
    "It has its own memory space and resources, making it isolated from other processes.\n",
    "\n",
    "**Concurrency:** Multiprocessing allows different processes to run at the same time, \n",
    "potentially improving performance by utilizing multiple CPU cores.\n",
    "\n",
    "**Inter-process Communication (IPC):** Since processes have separate memory spaces,they need mechanisms to communicate and share data. Common IPC methods include pipes, queues, and shared memory.\n",
    "\n",
    "\n",
    "\n",
    "**Why is Multiprocessing Used in Python Programs?**\n",
    "\n",
    "1. Bypassing the Global Interpreter Lock (GIL): Python's standard implementation (CPython) has a Global Interpreter Lock (GIL) that prevents multiple native threads from executing Python bytecodes simultaneously. This can be a bottleneck for CPU-bound tasks. Multiprocessing circumvents this limitation because each process runs in its own Python interpreter and memory space , thus not affected by the GIL.\n",
    "\n",
    "2. Parallelism: For tasks that are CPU-bound (e.g., data processing, mathematical computations),multiprocessing allows Python programs to take advantage of multiple CPU cores, thus speeding up execution by performing tasks in parallel.\n",
    "\n",
    "3. Isolation: Processes in a multiprocessing environment are isolated from each other,reducing issues related to shared state and making the program more robust to crashes or error in individual processes.\n",
    "\n",
    "4. Scalability: Multiprocessing can help programs scale better by distributing workloads across multiple processors or machines, which can be particularly beneficial for high-performance computing tasks.\n",
    "\n",
    "5. Asynchronous Execution: By running multiple processes, Python programs can handle multiple tasks at once, improving responsiveness and performance in applications that require concurrent execution."
   ]
  },
  {
   "cell_type": "markdown",
   "metadata": {},
   "source": [
    "## Q.4 Write a Python program using multithreading where one thread adds numbers to a list, and another thread removes numbers from the list. Implement a mechanism to avoid race conditions using threading.Lock.  "
   ]
  },
  {
   "cell_type": "code",
   "execution_count": 2,
   "metadata": {},
   "outputs": [
    {
     "name": "stdout",
     "output_type": "stream",
     "text": [
      "Added 0, List: [0]\n",
      "Removed 0, List: []\n",
      "Added 1, List: [1]\n",
      "Removed 1, List: []\n",
      "Added 2, List: [2]\n",
      "Added 3, List: [2, 3]\n",
      "Removed 2, List: [3]\n",
      "Added 4, List: [3, 4]\n",
      "Removed 3, List: [4]\n",
      "Added 5, List: [4, 5]\n",
      "Added 6, List: [4, 5, 6]\n",
      "Removed 4, List: [5, 6]\n",
      "Added 7, List: [5, 6, 7]\n",
      "Removed 5, List: [6, 7]\n",
      "Added 8, List: [6, 7, 8]\n",
      "Added 9, List: [6, 7, 8, 9]\n",
      "Removed 6, List: [7, 8, 9]\n",
      "Removed 7, List: [8, 9]\n",
      "Removed 8, List: [9]\n",
      "Removed 9, List: []\n",
      "Final List: []\n"
     ]
    }
   ],
   "source": [
    "import threading\n",
    "import time\n",
    "\n",
    "# Shared list\n",
    "numbers = []\n",
    "\n",
    "# Lock to prevent race conditions\n",
    "lock = threading.Lock()\n",
    "\n",
    "def add_numbers():\n",
    "    for i in range(10):\n",
    "        time.sleep(0.1)  # Simulate some work\n",
    "        with lock:\n",
    "            numbers.append(i)\n",
    "            print(f\"Added {i}, List: {numbers}\")\n",
    "\n",
    "def remove_numbers():\n",
    "    for i in range(10):\n",
    "        time.sleep(0.15)  # Simulate some work\n",
    "        with lock:\n",
    "            if numbers:\n",
    "                removed = numbers.pop(0)\n",
    "                print(f\"Removed {removed}, List: {numbers}\")\n",
    "\n",
    "# Create threads\n",
    "thread1 = threading.Thread(target=add_numbers)\n",
    "thread2 = threading.Thread(target=remove_numbers)\n",
    "\n",
    "# Start threads\n",
    "thread1.start()\n",
    "thread2.start()\n",
    "\n",
    "# Wait for threads to complete\n",
    "thread1.join()\n",
    "thread2.join()\n",
    "\n",
    "print(\"Final List:\", numbers)\n"
   ]
  },
  {
   "cell_type": "markdown",
   "metadata": {},
   "source": [
    "## Q.5 Describe the methods and tools available in Python for safely sharing data between threads and processes ."
   ]
  },
  {
   "cell_type": "code",
   "execution_count": 3,
   "metadata": {},
   "outputs": [],
   "source": [
    "'''In Python, safely sharing data between threads and processes is crucial to avoid issues \n",
    "like race conditions and ensure data integrity. Here are some methods and tools available for this purpose:\n",
    "\n",
    "Sharing Data Between Threads'''\n",
    "\n",
    "'''\n",
    "Threading Locks (threading.Lock):\n",
    "Purpose: Prevents multiple threads from accessing shared data simultaneously.\n",
    "Usage: Wrap the critical section of code with lock.acquire() and lock.release().\n",
    "\n",
    "'''\n",
    "\n",
    "import threading\n",
    "\n",
    "lock = threading.Lock()\n",
    "shared_data = 0\n",
    "\n",
    "def thread_task():\n",
    "    global shared_data\n",
    "    with lock:\n",
    "        shared_data += 1"
   ]
  },
  {
   "cell_type": "code",
   "execution_count": 4,
   "metadata": {},
   "outputs": [],
   "source": [
    "'''\n",
    "Threading Events (threading.Event):\n",
    "Purpose: Allows threads to wait for an event to be set before proceeding.\n",
    "Usage: Use event.set(), event.clear(), and event.wait()\n",
    "'''\n",
    "import threading\n",
    "\n",
    "event = threading.Event()\n",
    "\n",
    "def thread_task():\n",
    "    event.wait()  # Wait until the event is set\n",
    "    print(\"Event has been set!\")\n",
    "\n",
    "event.set()  # Set the event"
   ]
  },
  {
   "cell_type": "code",
   "execution_count": 5,
   "metadata": {},
   "outputs": [],
   "source": [
    "'''\n",
    "Queues (queue.Queue):\n",
    "Purpose: Provides a thread-safe way to exchange data between threads.\n",
    "Usage: Use queue.put() to add data and queue.get() to retrieve data.\n",
    "'''\n",
    "import queue\n",
    "\n",
    "q = queue.Queue()\n",
    "\n",
    "def producer():\n",
    "    q.put(\"data\")\n",
    "\n",
    "def consumer():\n",
    "    data = q.get()\n",
    "    print(data)"
   ]
  },
  {
   "cell_type": "code",
   "execution_count": 6,
   "metadata": {},
   "outputs": [],
   "source": [
    "'''\n",
    "Sharing Data Between Processes\n",
    "Multiprocessing Queues (multiprocessing.Queue):\n",
    "Purpose: Allows data to be safely shared between processes.\n",
    "Usage: Similar to queue.Queue but for processes.\n",
    "'''\n",
    "from multiprocess import Process, Queue\n",
    "q = Queue()\n",
    "\n",
    "def producer():\n",
    "    q.put(\"data\")\n",
    "\n",
    "def consumer():\n",
    "    data = q.get()\n",
    "    print(data)"
   ]
  },
  {
   "cell_type": "code",
   "execution_count": 7,
   "metadata": {},
   "outputs": [],
   "source": [
    "# Multiprocessing Pipes (multiprocessing.Pipe):\n",
    "# Purpose: Creates a two-way communication channel between processes.\n",
    "# Usage: Use pipe.send() to send data and pipe.recv() to receive data.\n",
    "from multiprocess import Process, Pipe\n",
    "\n",
    "parent_conn, child_conn = Pipe()\n",
    "\n",
    "def producer():\n",
    "    child_conn.send(\"data\")\n",
    "\n",
    "def consumer():\n",
    "    data = parent_conn.recv()\n",
    "    print(data)"
   ]
  },
  {
   "cell_type": "code",
   "execution_count": 8,
   "metadata": {},
   "outputs": [],
   "source": [
    "# Shared Memory (multiprocessing.Value and multiprocessing.Array):\n",
    "# Purpose: Allows processes to share data in a shared memory space.\n",
    "# Usage: Use Value for single values and Array for arrays.\n",
    "\n",
    "from multiprocess import Process, Value, Array\n",
    "\n",
    "shared_value = Value('i', 0)  # 'i' indicates an integer\n",
    "shared_array = Array('i', [0, 0, 0])\n",
    "\n",
    "def modify_shared_data():\n",
    "    shared_value.value += 1\n",
    "    shared_array[0] += 1"
   ]
  },
  {
   "cell_type": "markdown",
   "metadata": {},
   "source": [
    "## Q.6 Discuss why it’s crucial to handle exceptions in concurrent programs and the techniques available for doing so. "
   ]
  },
  {
   "cell_type": "markdown",
   "metadata": {},
   "source": [
    "**Handling exceptions in concurrent programs is crucial for several reasons:**\n",
    "\n",
    "Importance of Handling Exceptions in Concurrent Programs\n",
    "\n",
    "1. Robustness: Concurrent programs often involve multiple threads or processes that can fail independently. If an exception occurs in one thread or process and is not handled properly, it can lead to the entire application crashing or behaving unpredictably.\n",
    "\n",
    "2. Resource Management: Unhandled exceptions can prevent proper cleanup of resources, such as file handles, network connections, or memory. This can lead to resource leaks, which may exhaust system resources over time.\n",
    "\n",
    "3. Data Integrity: Exceptions can disrupt the flow of data processing. If exceptions are not managed, they can leave shared data in an inconsistent state, leading to data corruption and unexpected results.\n",
    "\n",
    "4. Error Reporting: Handling exceptions allows for better error reporting and logging, making it easier to diagnose issues in complex systems. This is especially important in production environments, where understanding failures is critical for maintaining system health.\n",
    "\n",
    "5. Graceful Shutdown: Exception handling enables programs to shut down gracefully. Instead of terminating abruptly, programs can clean up resources and provide meaningful feedback to users.\n",
    "\n",
    "**Techniques for Handling Exceptions in Concurrent Programs :**\n",
    "\n",
    "-  Try-Catch Blocks: \n",
    "    - The most basic method is to use try-catch blocks around code that might throw exceptions.\n",
    "    This ensures that exceptions are caught and handled appropriately within each thread.\n",
    "\n",
    "-  Thread-Specific Exception Handling:\n",
    "     - Different threads may require different exception handling strategies.Using thread-specific handlers can ensure that each thread deals with exceptions in a way that is appropriatefor its context1.\n",
    "\n",
    "- Thread Pools: \n",
    "     - Using thread pools can help manage exceptions more efficiently. When a thread in the pool encountersan exception, the pool can handle it and potentially restart the thread or log the error1.\n",
    "\n",
    "- Uncaught Exception Handlers:\n",
    "     - programming languages provide mechanisms to set a default handler for uncaught exceptions in threads. For example, Java allows setting an UncaughtExceptionHandler for threads, which can log theexception or take corrective action.\n",
    "\n",
    "- Future and CompletableFuture:\n",
    "     - In languages like Java, using Future or CompletableFuture allows handling exceptions that occur in asynchronous tasks. These constructs provide methods to check for exceptions and handle them once the task is complete2.\n",
    "\n",
    "- Atomic Operations and Locks:\n",
    "     - Ensuring that operations on shared resources are atomic and using locks can prevent datacorruption and ensure that exceptions do not leave shared resources in an inconsistent state3.\n",
    "\n",
    "- Exception Propagation:\n",
    "     - In some cases, it might be necessary to propagate exceptions from worker threads to the main thread. This can be done using shared data structures or by re-throwing exceptions in the main thread after worker threads have completed\n"
   ]
  },
  {
   "cell_type": "markdown",
   "metadata": {},
   "source": [
    "## Q.7 Create a program that uses a thread pool to calculate the factorial of numbers from 1 to 10 concurrently. Use concurrent.futures.ThreadPoolExecutor to manage the threads.  "
   ]
  },
  {
   "cell_type": "code",
   "execution_count": 9,
   "metadata": {},
   "outputs": [
    {
     "name": "stdout",
     "output_type": "stream",
     "text": [
      "Factorial of 4 is 24\n",
      "Factorial of 1 is 1\n",
      "Factorial of 6 is 720\n",
      "Factorial of 5 is 120\n",
      "Factorial of 3 is 6\n",
      "Factorial of 2 is 2\n",
      "Factorial of 9 is 362880\n",
      "Factorial of 8 is 40320\n",
      "Factorial of 7 is 5040\n",
      "Factorial of 10 is 3628800\n"
     ]
    }
   ],
   "source": [
    "\n",
    "import concurrent.futures\n",
    "import math\n",
    "# Function to calculate the factorial of a number\n",
    "def calculate_factorial(n):\n",
    "    return math.factorial(n)\n",
    "\n",
    "\n",
    "def main():\n",
    "    # Create a ThreadPoolExecutor\n",
    "    numbers = range(1, 11)\n",
    "    with concurrent.futures.ThreadPoolExecutor() as executor:\n",
    "\n",
    "    # Submit tasks to the executor\n",
    "        futures = {executor.submit(calculate_factorial, num): num for num in numbers}\n",
    "\n",
    "    # Retrieve and print the results as they complete\n",
    "        for future in concurrent.futures.as_completed(futures):\n",
    "            num = futures[future]\n",
    "            try:\n",
    "                result = future.result()\n",
    "                print(f\"Factorial of {num} is {result}\")\n",
    "            except Exception as exc:\n",
    "                print(f\"Generated an exception: {exc}\")\n",
    "\n",
    "if __name__ == \"__main__\":\n",
    "    main()"
   ]
  },
  {
   "cell_type": "markdown",
   "metadata": {},
   "source": [
    "## Q.8 Create a Python program that uses multiprocessing.Pool to compute the square of numbers from 1 to 10 in parallel. Measure the time taken to perform this computation using a pool of different sizes (e.g., 2, 4, 8 processes)"
   ]
  },
  {
   "cell_type": "code",
   "execution_count": 10,
   "metadata": {},
   "outputs": [
    {
     "name": "stdout",
     "output_type": "stream",
     "text": [
      "Using pool size: 2\n",
      "Squares: [1, 4, 9, 16, 25, 36, 49, 64, 81, 100]\n",
      "Time taken: 0.7393 seconds\n",
      "\n",
      "Using pool size: 4\n",
      "Squares: [1, 4, 9, 16, 25, 36, 49, 64, 81, 100]\n",
      "Time taken: 0.7614 seconds\n",
      "\n",
      "Using pool size: 8\n",
      "Squares: [1, 4, 9, 16, 25, 36, 49, 64, 81, 100]\n",
      "Time taken: 1.2072 seconds\n",
      "\n"
     ]
    }
   ],
   "source": [
    "# attention >> multiprocessing.Pool is throwing error on my jupyter notebook thats why I am  using multiprocess.Pool instead of multiprocessing.pool \n",
    "import multiprocess\n",
    "import time\n",
    "\n",
    "# Function to compute the square of a number\n",
    "def compute_square(n):\n",
    "    return n * n\n",
    "\n",
    "def main():\n",
    "    numbers = list(range(1, 11))\n",
    "    pool_sizes = [2, 4, 8]\n",
    "\n",
    "    for pool_size in pool_sizes:\n",
    "        print(f\"Using pool size: {pool_size}\")\n",
    "        \n",
    "        # Create a Pool with the specified size\n",
    "        with multiprocess.Pool(processes=pool_size) as pool:\n",
    "            start_time = time.time()  # Record the start time\n",
    "            \n",
    "            # Compute squares in parallel\n",
    "            results = pool.map(compute_square, numbers)\n",
    "            \n",
    "            end_time = time.time()  # Record the end time\n",
    "            \n",
    "            # Print the results\n",
    "            print(f\"Squares: {results}\")\n",
    "            print(f\"Time taken: {end_time - start_time:.4f} seconds\\n\")\n",
    "\n",
    "if __name__ == \"__main__\":\n",
    "    main()\n"
   ]
  }
 ],
 "metadata": {
  "kernelspec": {
   "display_name": "Python 3",
   "language": "python",
   "name": "python3"
  },
  "language_info": {
   "codemirror_mode": {
    "name": "ipython",
    "version": 3
   },
   "file_extension": ".py",
   "mimetype": "text/x-python",
   "name": "python",
   "nbconvert_exporter": "python",
   "pygments_lexer": "ipython3",
   "version": "3.12.4"
  }
 },
 "nbformat": 4,
 "nbformat_minor": 2
}
